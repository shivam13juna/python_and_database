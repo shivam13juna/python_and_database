{
 "cells": [
  {
   "cell_type": "markdown",
   "metadata": {},
   "source": [
    "# Let's Learn how to connect Python to Database "
   ]
  },
  {
   "cell_type": "code",
   "execution_count": 8,
   "metadata": {},
   "outputs": [],
   "source": [
    "import sqlite3\n",
    "import pandas as pd"
   ]
  },
  {
   "cell_type": "code",
   "execution_count": 2,
   "metadata": {},
   "outputs": [],
   "source": [
    "connection = sqlite3.connect('email.db') # This command checks access to the database\n",
    "curr = connection.cursor() # This is kind of like cursor, this is where we send sql commands (Cursor is a generator)"
   ]
  },
  {
   "cell_type": "code",
   "execution_count": 33,
   "metadata": {},
   "outputs": [
    {
     "data": {
      "text/plain": [
       "<sqlite3.Cursor at 0x103890730>"
      ]
     },
     "execution_count": 33,
     "metadata": {},
     "output_type": "execute_result"
    }
   ],
   "source": [
    "# Dropping table if there's any existing tables in our database\n",
    "curr.execute('''DROP TABLE IF EXISTS Counts ''') # No error means command executed successfully, it'd have thrown an error had there been some problem"
   ]
  },
  {
   "cell_type": "code",
   "execution_count": 34,
   "metadata": {},
   "outputs": [
    {
     "data": {
      "text/plain": [
       "<sqlite3.Cursor at 0x103890730>"
      ]
     },
     "execution_count": 34,
     "metadata": {},
     "output_type": "execute_result"
    }
   ],
   "source": [
    "# Creating our Table\n",
    "curr.execute('CREATE TABLE Counts(email VARCHAR, fname VARCHAR, lname VARCHAR, money DECIMAL(5, 2), phone INT)')"
   ]
  },
  {
   "cell_type": "code",
   "execution_count": 35,
   "metadata": {},
   "outputs": [],
   "source": [
    "orders = pd.read_csv('/Users/shivam.prasad/Documents/research_projects/jamii_codebase/ML/orders.csv')"
   ]
  },
  {
   "cell_type": "code",
   "execution_count": 36,
   "metadata": {},
   "outputs": [],
   "source": [
    "for i in range(orders.shape[0]):\n",
    "    first_name = orders.iloc[i]['billing_first_name']\n",
    "    last_name = orders.iloc[i]['billing_last_name']\n",
    "    email = orders.iloc[i]['billing_email']\n",
    "    phone = orders.iloc[i]['billing_phone']\n",
    "    amount = orders.iloc[i]['order_total']\n",
    "    \n",
    "    curr.execute('INSERT INTO Counts(email, fname, lname, money, phone) VALUES(?, ?, ?, ?, ?)', (email, first_name, last_name, amount, phone))\n",
    "\n",
    "    \n",
    "    "
   ]
  },
  {
   "cell_type": "code",
   "execution_count": 38,
   "metadata": {},
   "outputs": [],
   "source": [
    "connection.commit()"
   ]
  },
  {
   "cell_type": "code",
   "execution_count": 40,
   "metadata": {},
   "outputs": [
    {
     "name": "stdout",
     "output_type": "stream",
     "text": [
      "('test@test.com', 'Vipul', 'Test', 69.17)\n",
      "('aparham55@hotmail.com', 'Ash', 'Parham', 17.4)\n",
      "('test@test.com', 'Vipul', 'Test', 45.32)\n",
      "('roucarpetcare@gmai.com', 'Claudio', 'Ferreira', 66.78)\n",
      "('dave@noxcusesfitness.com', 'Dave', 'Degeronimo', 19.08)\n",
      "('vicdmartinez72@gmail.com', 'Victor', 'Martinez', 28.62)\n",
      "('brandon.jaeg@gmail.com', 'Brandon', 'Jaeger', 56.87)\n",
      "('dejesus.maggiee@gmail.com', 'Maggie', 'de Jesus', 8.35)\n",
      "('alexjosephgagante@gmail.com', 'Alex Joseph', 'Gagante', 26.24)\n",
      "('osza06@gmail.com', 'ORIN', 'ABELLANA', 22.66)\n"
     ]
    }
   ],
   "source": [
    "for row in curr.execute('SELECT email as Email_ID, fname as First_Name, lname as Last_Name, money as Amount_Spent FROM Counts DESC LIMIT 10'):\n",
    "    print(row)"
   ]
  },
  {
   "cell_type": "code",
   "execution_count": 42,
   "metadata": {},
   "outputs": [
    {
     "data": {
      "text/plain": [
       "[('test@test.com', 'Vipul', 'Test', 69.17),\n",
       " ('aparham55@hotmail.com', 'Ash', 'Parham', 17.4),\n",
       " ('test@test.com', 'Vipul', 'Test', 45.32),\n",
       " ('roucarpetcare@gmai.com', 'Claudio', 'Ferreira', 66.78),\n",
       " ('dave@noxcusesfitness.com', 'Dave', 'Degeronimo', 19.08),\n",
       " ('vicdmartinez72@gmail.com', 'Victor', 'Martinez', 28.62),\n",
       " ('brandon.jaeg@gmail.com', 'Brandon', 'Jaeger', 56.87),\n",
       " ('dejesus.maggiee@gmail.com', 'Maggie', 'de Jesus', 8.35),\n",
       " ('alexjosephgagante@gmail.com', 'Alex Joseph', 'Gagante', 26.24),\n",
       " ('osza06@gmail.com', 'ORIN', 'ABELLANA', 22.66)]"
      ]
     },
     "execution_count": 42,
     "metadata": {},
     "output_type": "execute_result"
    }
   ],
   "source": [
    "list(curr.execute('SELECT email as Email_ID, fname as First_Name, lname as Last_Name, money as Amount_Spent FROM Counts DESC LIMIT 10'))"
   ]
  },
  {
   "cell_type": "code",
   "execution_count": null,
   "metadata": {},
   "outputs": [],
   "source": []
  }
 ],
 "metadata": {
  "kernelspec": {
   "display_name": "Python 3",
   "language": "python",
   "name": "python3"
  },
  "language_info": {
   "codemirror_mode": {
    "name": "ipython",
    "version": 3
   },
   "file_extension": ".py",
   "mimetype": "text/x-python",
   "name": "python",
   "nbconvert_exporter": "python",
   "pygments_lexer": "ipython3",
   "version": "3.7.7"
  }
 },
 "nbformat": 4,
 "nbformat_minor": 4
}
